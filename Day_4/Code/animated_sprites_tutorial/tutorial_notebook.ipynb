{
 "cells": [
  {
   "cell_type": "code",
   "execution_count": null,
   "metadata": {},
   "outputs": [],
   "source": [
    "import pygame\n",
    "surface = pygame.image.load(\"imgs/kitty-spritesheet.png\")\n",
    "surface_rect = surface.get_rect()\n",
    "print(surface_rect) # prints <rect(0, 0, 64, 32)>"
   ]
  },
  {
   "cell_type": "code",
   "execution_count": null,
   "metadata": {},
   "outputs": [],
   "source": [
    "import pygame\n",
    "spritesheet = pygame.image.load(\"imgs/kitty-spritesheet.png\")\n",
    "surface_rect = spritesheet.get_rect()\n",
    "sprite_width = surface_rect.width / 2\n",
    "sprite_rect = pygame.Rect(0, 0, sprite_width, surface_rect.height)\n",
    "print(surface_rect) # prints <rect(0, 0, 64, 32)>\n",
    "print(sprite_rect) # prints <rect(0, 0, 32, 32)>"
   ]
  },
  {
   "cell_type": "code",
   "execution_count": null,
   "metadata": {},
   "outputs": [],
   "source": [
    "\"\"\" continues from previous code \"\"\"\n",
    "first_image_rect = sprite_rect\n",
    "first_image = spritesheet.subsurface(first_image_rect)\n",
    "pygame.image.save(first_image, \"imgs/first_image.png\")"
   ]
  },
  {
   "cell_type": "code",
   "execution_count": null,
   "metadata": {},
   "outputs": [],
   "source": [
    "\"\"\" continues from previous code \"\"\"\n",
    "second_image_rect = pygame.Rect(sprite_width, 0, sprite_width, surface_rect.height)\n",
    "second_image = spritesheet.subsurface(second_image_rect)\n",
    "pygame.image.save(second_image, \"imgs/second_image.png\")"
   ]
  }
 ],
 "metadata": {
  "kernelspec": {
   "display_name": "Python 3.8.5 ('base')",
   "language": "python",
   "name": "python3"
  },
  "language_info": {
   "codemirror_mode": {
    "name": "ipython",
    "version": 3
   },
   "file_extension": ".py",
   "mimetype": "text/x-python",
   "name": "python",
   "nbconvert_exporter": "python",
   "pygments_lexer": "ipython3",
   "version": "3.8.5"
  },
  "orig_nbformat": 4,
  "vscode": {
   "interpreter": {
    "hash": "6008d8e6afd62340f0209ef91e9cd591991b3f0df08e00d0b9d4f401037e5aba"
   }
  }
 },
 "nbformat": 4,
 "nbformat_minor": 2
}
