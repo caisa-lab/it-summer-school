{
 "cells": [
  {
   "cell_type": "markdown",
   "metadata": {},
   "source": [
    "#### Variablen (Aufgaben)"
   ]
  },
  {
   "cell_type": "code",
   "execution_count": null,
   "metadata": {},
   "outputs": [],
   "source": [
    "# Erstelle eine Variable x und setze sie auf 200\n",
    " \n",
    "# print x!\n",
    "\n",
    "\n",
    "\n",
    "# Addiere 2 zu x, um x auf 202 zu updaten\n",
    "\n",
    "\n",
    "\n",
    "# Überschreiben Sie x, um den String \"Hello, world!\" darzustellen.\n",
    "\n",
    "\n"
   ]
  },
  {
   "cell_type": "markdown",
   "metadata": {},
   "source": [
    "### Mathe"
   ]
  },
  {
   "cell_type": "code",
   "execution_count": null,
   "metadata": {},
   "outputs": [],
   "source": [
    "\"\"\" Addition \"\"\"\n",
    "x = 1 + 1\n",
    "print(x)\n",
    "\n",
    "\"\"\" Subtraktion \"\"\"\n",
    "x = -15.2 - 31\n",
    "print(x)\n",
    "\n",
    "\"\"\" Multiplikation \"\"\"\n",
    "x = 8 * 8\n",
    "print(x)\n",
    "\n",
    "\"\"\" Division \"\"\"\n",
    "x = 3 / 4\n",
    "print(x)\n",
    "\n",
    "\"\"\" Potenzierung \"\"\"\n",
    "x = 8 ** 2\n",
    "print(x)\n",
    "\n",
    "\"\"\" Modulo \"\"\"\n",
    "x = 10 % 3\n",
    "print(x)"
   ]
  },
  {
   "cell_type": "markdown",
   "metadata": {},
   "source": [
    "### Reihenfolge von Operationen"
   ]
  },
  {
   "cell_type": "code",
   "execution_count": null,
   "metadata": {},
   "outputs": [],
   "source": [
    "# addiere 1 zu 8 Quadrat\n",
    "x = 8 * 8 + 1\n",
    "print(x)\n",
    "\n",
    "# addiere 1 zu 8 Quadrat\n",
    "x = 8 ** 2 + 1\n",
    "print(x)\n",
    "\n",
    "# Was kommt hier raus?\n",
    "x = 8 ** (2 + 1)\n",
    "print(x)"
   ]
  },
  {
   "cell_type": "code",
   "execution_count": null,
   "metadata": {},
   "outputs": [],
   "source": [
    "# keine implizite Multiplikation mit Klammern\n",
    "x = 8(8)\n",
    "print(x)"
   ]
  },
  {
   "cell_type": "markdown",
   "metadata": {},
   "source": [
    "### Vergleichsoperatoren"
   ]
  },
  {
   "cell_type": "code",
   "execution_count": null,
   "metadata": {},
   "outputs": [],
   "source": [
    "# Boolean?\n",
    "what_is_this = True\n",
    "type(what_is_this)"
   ]
  },
  {
   "cell_type": "code",
   "execution_count": null,
   "metadata": {},
   "outputs": [],
   "source": [
    "# What happens?\n",
    "what_is_this = True\n",
    "i_am_true = 1\n",
    "what_is_this == i_am_true"
   ]
  },
  {
   "cell_type": "code",
   "execution_count": null,
   "metadata": {},
   "outputs": [],
   "source": [
    "# Was wird ausgegeben?\n",
    "x = 30\n",
    "y = 15\n",
    "print(x == y)"
   ]
  },
  {
   "cell_type": "code",
   "execution_count": null,
   "metadata": {},
   "outputs": [],
   "source": [
    "# Was wird ausgegeben?\n",
    "x = 30.0\n",
    "y = 15 * 2\n",
    "print(x == y)"
   ]
  },
  {
   "cell_type": "code",
   "execution_count": null,
   "metadata": {},
   "outputs": [],
   "source": [
    "# Was wird ausgegeben?\n",
    "x = (2 - 3) * 5\n",
    "print(x > 0)"
   ]
  },
  {
   "cell_type": "code",
   "execution_count": null,
   "metadata": {},
   "outputs": [],
   "source": [
    "# Was wird ausgegeben?\n",
    "x = (2 - 3) * 5\n",
    "print(x < 0)"
   ]
  },
  {
   "cell_type": "code",
   "execution_count": null,
   "metadata": {},
   "outputs": [],
   "source": [
    "# Was wird ausgegeben?\n",
    "x = (2 - 3) * 5\n",
    "print(x != 0)"
   ]
  },
  {
   "cell_type": "code",
   "execution_count": null,
   "metadata": {},
   "outputs": [],
   "source": [
    "#  Was wird ausgegeben?\n",
    "i_am_true = True\n",
    "i_am_false = False\n",
    "print(i_am_true >= i_am_false)"
   ]
  },
  {
   "cell_type": "code",
   "execution_count": null,
   "metadata": {},
   "outputs": [],
   "source": [
    "# Was wird ausgegeben?\n",
    "big_number = 1000\n",
    "small_number = 2\n",
    "print(small_number <= big_number)"
   ]
  },
  {
   "cell_type": "code",
   "execution_count": null,
   "metadata": {},
   "outputs": [],
   "source": [
    "#  Was wird ausgegeben?\n",
    "big_number = 1000\n",
    "small_number = 2\n",
    "print(small_number * 500 + 1 <= big_number)"
   ]
  },
  {
   "cell_type": "markdown",
   "metadata": {},
   "source": [
    "### Bedingte Anweisungen (Aufgabe)"
   ]
  },
  {
   "cell_type": "code",
   "execution_count": null,
   "metadata": {},
   "outputs": [],
   "source": [
    "apples_in_basket = 3\n",
    "\n",
    "\"\"\"\n",
    "Wie können wir feststellen, ob der Korb leer ist?\n",
    "\n",
    "Verwende einen Vergleichsoperator, um zu prüfen\n",
    "ob der Korb Äpfel enthält\n",
    "\"\"\"\n",
    "\n",
    "\n"
   ]
  },
  {
   "cell_type": "markdown",
   "metadata": {},
   "source": [
    "### Bedingte Anweisungen (if)\n"
   ]
  },
  {
   "cell_type": "code",
   "execution_count": null,
   "metadata": {},
   "outputs": [],
   "source": [
    "# Versuche es!\n",
    "apples_in_basket = 3\n",
    "\n",
    "# Schreibe den Python code:\n",
    " \n",
    " \n"
   ]
  },
  {
   "cell_type": "markdown",
   "metadata": {},
   "source": [
    "### Bedingte Anweisungen (if … else)\n"
   ]
  },
  {
   "cell_type": "code",
   "execution_count": null,
   "metadata": {},
   "outputs": [],
   "source": [
    "# Versuche es!\n",
    "apples_in_basket = 3\n",
    "\n",
    "# Schreibe den Python code für \"else\"\n",
    "if apples_in_basket > 0:\n",
    "   print(apples_in_basket)\n",
    "\n",
    "\n"
   ]
  },
  {
   "cell_type": "markdown",
   "metadata": {},
   "source": [
    "### Bedingte Anweisungen (elif)\n",
    "\n",
    "Übung: Schreibe Python-Code auf Basis der Vorlage links, der die 3 Bedingungen des Apfelkorbs behandelt.\n",
    "\n",
    "1. Wenn der Korb mehr als einen Apfel enthält, print \"es sind x Äpfel im Korb\".\n",
    "2. Wenn der Korb nur einen Apfel enthält, print \"es befindet sich ein Apfel im Korb\".\n",
    "3. Wenn der Korb leer ist, print \"es sind keine Äpfel im Korb\".\n",
    "\n",
    "Teste jede Bedingung, indem Du den Wert von apples_in_basket\n",
    "änderst.\n"
   ]
  },
  {
   "cell_type": "code",
   "execution_count": null,
   "metadata": {},
   "outputs": [],
   "source": [
    "apples_in_basket = 0 # try 0, 1, 2\n",
    "\n",
    "\n"
   ]
  },
  {
   "cell_type": "markdown",
   "metadata": {},
   "source": [
    "### Zusammengesetzte Bedingungen\n",
    "\n",
    "Wir können auch die Operatoren und und oder in unseren Bedingungen verwenden"
   ]
  },
  {
   "cell_type": "code",
   "execution_count": null,
   "metadata": {},
   "outputs": [],
   "source": [
    "num = 50\n",
    "if num > 0 and num < 100:\n",
    "   print(\"This is a number between 0 and 100!\")"
   ]
  },
  {
   "cell_type": "markdown",
   "metadata": {},
   "source": [
    "### Loops\n",
    "\n",
    "- Infinite Loops \n",
    "- Schleifen: Behebung der Endlosschleife\n",
    "- Schleifen: Iterationen\n"
   ]
  },
  {
   "cell_type": "code",
   "execution_count": null,
   "metadata": {},
   "outputs": [],
   "source": [
    "Lives = 3\n",
    "forever = True\n",
    "num_iterations = 0\n",
    "\n",
    "while forever: \n",
    "   if Lives == 0: # stopping condition\n",
    "       print(\"Game Over\")\n",
    "       break # stop\n",
    "   # update the value of Lives\n",
    "   Lives = Lives - 1\n",
    "   num_iterations = num_iterations + 1\n",
    "print(\"The loop ran\", num_iterations, \"times\")"
   ]
  },
  {
   "cell_type": "markdown",
   "metadata": {},
   "source": [
    "### Schleifen und Verbesserung in Python\n"
   ]
  },
  {
   "cell_type": "code",
   "execution_count": null,
   "metadata": {},
   "outputs": [],
   "source": [
    "Lives = 3\n",
    "# Wir brauchen \"forever\" nicht\n",
    "# forever = True\n",
    "num_iterations = 0\n",
    "\n",
    "while True: # Wir können einfach sagen \"while True\"\n",
    "  if Lives == 0:\n",
    "      print(\"Game Over\")\n",
    "      break\n",
    "  Lives = Lives - 1\n",
    "  num_iterations = num_iterations + 1\n",
    "print(\"The loop ran\", num_iterations, \"times\")"
   ]
  },
  {
   "cell_type": "code",
   "execution_count": null,
   "metadata": {},
   "outputs": [],
   "source": [
    "Lives = 3\n",
    "num_iterations = 0\n",
    "\n",
    "# Anstelle von \"True\" können wir eine Bedingung verwenden\n",
    "while Lives != 0:\n",
    "# Bedingung innerhalb der Schleife löschen\n",
    "#    if Lives == 0:\n",
    "#        print(\"Game Over\")\n",
    "#        break\n",
    "  Lives = Lives - 1\n",
    "  num_iterations = num_iterations + 1\n",
    "print(\"The loop ran\", num_iterations, \"times\")"
   ]
  },
  {
   "cell_type": "markdown",
   "metadata": {},
   "source": [
    "### Schleifen (Aufgabe)\n",
    "\n",
    "Schreibe eine while-Schleife in Python, die in jeder Iteration \"einen Apfel aus dem Korb entfernt\" (verringere apples_in_basket um 1 in jeder Iteration).\n",
    "\n",
    "Lasse dein Programm die Bedingungen ausgeben, die wir zuvor geschrieben haben (die Anzahl der Äpfel ausgeben und ausgeben, wenn keine Äpfel mehr da sind).\n",
    "Denke daran, dass die Abbruchbedingung erreicht werden muss, um eine Endlosschleife zu vermeiden!\n",
    " \n"
   ]
  },
  {
   "cell_type": "code",
   "execution_count": null,
   "metadata": {},
   "outputs": [],
   "source": [
    "# code here\n",
    "\n"
   ]
  },
  {
   "cell_type": "markdown",
   "metadata": {},
   "source": [
    "### For-Schleifen\n"
   ]
  },
  {
   "cell_type": "code",
   "execution_count": null,
   "metadata": {},
   "outputs": [],
   "source": [
    "for i in range(10):\n",
    "   print(i)"
   ]
  },
  {
   "cell_type": "markdown",
   "metadata": {},
   "source": [
    "### Teste dein Verständnis\n",
    "\n",
    "Vervollständige die for-Schleife so, dass sie nur die geraden Zahlen im Bereich ausgibt.\n",
    "\n",
    "Hinweis: Der Modulo-Operator liefert den Rest nach der Division"
   ]
  },
  {
   "cell_type": "code",
   "execution_count": null,
   "metadata": {},
   "outputs": [],
   "source": [
    "for i in range(20):\n",
    " \n",
    " \n",
    "\n"
   ]
  },
  {
   "cell_type": "markdown",
   "metadata": {},
   "source": [
    "### For-Schleifen\n"
   ]
  },
  {
   "cell_type": "code",
   "execution_count": null,
   "metadata": {},
   "outputs": [],
   "source": [
    "\"\"\" Man kann den Anfangspunkt des Bereichs angeben \"\"\"\n",
    "for i in range(1, 11):\n",
    "   print(i)"
   ]
  },
  {
   "cell_type": "code",
   "execution_count": null,
   "metadata": {},
   "outputs": [],
   "source": [
    "\"\"\" Man kann den zu erhöhenden Wert angeben \"\"\"\n",
    "for i in range(1, 11, 2):\n",
    "   print(i)"
   ]
  },
  {
   "cell_type": "code",
   "execution_count": null,
   "metadata": {},
   "outputs": [],
   "source": [
    "\"\"\" Man kann von großen zu kleinen Werten iterieren \"\"\"\n",
    "for i in range(11, 1, -2):\n",
    "   print(i)"
   ]
  },
  {
   "cell_type": "markdown",
   "metadata": {},
   "source": [
    "### Listen"
   ]
  },
  {
   "cell_type": "code",
   "execution_count": null,
   "metadata": {},
   "outputs": [],
   "source": [
    "Einkaufsliste = [\"Zwiebeln\", \"Tomaten\", \"Reis\", \"Suppe\"]"
   ]
  },
  {
   "cell_type": "markdown",
   "metadata": {},
   "source": [
    "### Iteration über Listen"
   ]
  },
  {
   "cell_type": "code",
   "execution_count": null,
   "metadata": {},
   "outputs": [],
   "source": [
    "Einkaufsliste = [\"Zwiebeln\", \"Tomaten\", \"Reis\", \"Suppe\"]\n",
    "for item in Einkaufsliste:\n",
    "   print(item)\n"
   ]
  },
  {
   "cell_type": "markdown",
   "metadata": {},
   "source": [
    "### Zugriff auf Listenelemente\n"
   ]
  },
  {
   "cell_type": "code",
   "execution_count": null,
   "metadata": {},
   "outputs": [],
   "source": [
    "grocery_list = [\"Onions\", \"Tomatoes\", \"Rice\", \"Soup\"]\n",
    "print(grocery_list[0])\n",
    "print(grocery_list[1])\n",
    "print(grocery_list[2])\n",
    "print(grocery_list[3])"
   ]
  },
  {
   "cell_type": "code",
   "execution_count": null,
   "metadata": {},
   "outputs": [],
   "source": [
    "grocery_list = [\"Onions\", \"Tomatoes\", \"Rice\", \"Soup\"]\n",
    "print(grocery_list[-1])\n",
    "print(grocery_list[-2])"
   ]
  },
  {
   "cell_type": "markdown",
   "metadata": {},
   "source": [
    "### Hinzufügen zur Liste"
   ]
  },
  {
   "cell_type": "code",
   "execution_count": null,
   "metadata": {},
   "outputs": [],
   "source": [
    "grocery_list = [\"Onions\", \"Tomatoes\", \"Rice\", \"Soup\"]\n",
    "\n",
    "grocery_list.append(\"Ice cream\")\n",
    "print(grocery_list)\n",
    "# The item is \"appended\" to the end of the list\n",
    "print(grocery_list[-1]) \n",
    "\n"
   ]
  },
  {
   "cell_type": "markdown",
   "metadata": {},
   "source": [
    "### Ändere Elemente in der Liste"
   ]
  },
  {
   "cell_type": "code",
   "execution_count": null,
   "metadata": {},
   "outputs": [],
   "source": [
    "grocery_list = [\"Onions\", \"Tomatoes\", \"Rice\"]\n",
    "grocery_list[0] = \"Ice cream\"\n",
    "print(grocery_list)"
   ]
  },
  {
   "cell_type": "markdown",
   "metadata": {},
   "source": [
    "### Listen können verschiedene Datentypen beinhalten"
   ]
  },
  {
   "cell_type": "code",
   "execution_count": null,
   "metadata": {},
   "outputs": [],
   "source": [
    "grocery_list = [\"Onions\", \"Tomatoes\", \"Rice\", \"Soup\"]\n",
    "grocery_list.append(5)\n",
    "grocery_list.append(5.5)\n",
    "print(grocery_list)\n"
   ]
  },
  {
   "cell_type": "markdown",
   "metadata": {},
   "source": [
    "### Iteration mit for-Schleifen"
   ]
  },
  {
   "cell_type": "code",
   "execution_count": null,
   "metadata": {},
   "outputs": [],
   "source": [
    "\"\"\"Wir können die Liste mit einer Schleife durchlaufen\"\"\"\n",
    "grocery_list = [\"Onions\", \"Tomatoes\", \"Rice\"]\n",
    "for grocery_item in grocery_list:\n",
    "   print(grocery_item)"
   ]
  },
  {
   "cell_type": "code",
   "execution_count": null,
   "metadata": {},
   "outputs": [],
   "source": [
    "\"\"\"Wir können durch jedes Objekt was \"iterable\" ist iterieren.\"\"\"\n",
    "for character in \"Ice cream\":\n",
    "   print(character)"
   ]
  },
  {
   "cell_type": "markdown",
   "metadata": {},
   "source": [
    "### len()"
   ]
  },
  {
   "cell_type": "code",
   "execution_count": null,
   "metadata": {},
   "outputs": [],
   "source": [
    "grocery_list = [\"Onions\", \"Tomatoes\", \"Rice\"]\n",
    "print(len(grocery_list))\n",
    "print(len(\"Ice cream\"))"
   ]
  },
  {
   "cell_type": "markdown",
   "metadata": {},
   "source": [
    "### min() und max()\n"
   ]
  },
  {
   "cell_type": "code",
   "execution_count": null,
   "metadata": {},
   "outputs": [],
   "source": [
    "some_numbers = [5, 2, 1, 5, 7, 10, 32, 3]\n",
    "smallest_number = min(some_numbers) # 1\n",
    "index_of_smallest_number = some_numbers.index(smallest_number) # 2\n",
    "\n",
    "print(some_numbers[index_of_smallest_number]) # 1"
   ]
  },
  {
   "cell_type": "markdown",
   "metadata": {},
   "source": [
    "### Verschachtelte Schleifen"
   ]
  },
  {
   "cell_type": "code",
   "execution_count": null,
   "metadata": {},
   "outputs": [],
   "source": [
    "grocery_list = [\"Onions\", \"Tomatoes\", \"Rice\"]\n",
    "for i in grocery_list:\n",
    "   for j in grocery_list:\n",
    "       if i != j:\n",
    "           print(i, j)"
   ]
  },
  {
   "cell_type": "markdown",
   "metadata": {},
   "source": [
    "### Dictionaries"
   ]
  },
  {
   "cell_type": "code",
   "execution_count": null,
   "metadata": {},
   "outputs": [],
   "source": [
    "my_dict = {\"key\": \"value\"}\n",
    "\n",
    "print(my_dict[\"key\"])"
   ]
  },
  {
   "cell_type": "code",
   "execution_count": null,
   "metadata": {},
   "outputs": [],
   "source": [
    "my_dict = {\"key\": \"value\", 'dictionary': 'Wörterbuch'}"
   ]
  },
  {
   "cell_type": "code",
   "execution_count": null,
   "metadata": {},
   "outputs": [],
   "source": [
    "my_dict = {\"word\": \"a definition of that word\"}\n",
    "print(my_dict[\"word\"])\n",
    "\n",
    "en2de = {'apple': 'Apfel', 'onion': 'Zwiebel', 'dictionary': 'Wörterbuch'}\n",
    "print(en2de[\"apple\"])\n",
    "print(en2de[\"onion\"])\n",
    "print(en2de[\"dictionary\"])"
   ]
  },
  {
   "cell_type": "code",
   "execution_count": null,
   "metadata": {},
   "outputs": [],
   "source": [
    "\"\"\"Keys und Values können unterschiedliche Datentypen sein\"\"\"\n",
    "my_dict = {\"xy-coordinates\": [(2,3), (3,4), (4,5)], 'closest':(3,4)}\n",
    "print(type(my_dict[\"xy-coordinates\"])) # <class 'list'>\n",
    "print(type(my_dict[\"closest\"])) # <class 'tuple'>\n",
    "\n",
    "my_dict = {3: 'three', 'three':3}"
   ]
  },
  {
   "cell_type": "code",
   "execution_count": null,
   "metadata": {},
   "outputs": [],
   "source": [
    "\"\"\"\n",
    "Dictionaries sind iterable. \n",
    "Durch einfaches Iterieren über das Dictionary \n",
    "werden die Zeichenketten durchlaufen.\n",
    "\"\"\"\n",
    "\n",
    "groceries = {\"fruit\": [\"apple\", \"orange\"],\n",
    "\"vegetable\": [\"onion\", \"potato\"]}\n",
    "\n",
    "for category in groceries:\n",
    "   for item in groceries[category]:\n",
    "       print(item, \"is a\", category)\n"
   ]
  },
  {
   "cell_type": "markdown",
   "metadata": {},
   "source": [
    "- Iteriere über keys und values mit dict.items()\n",
    "- Iteriere über keys: dict.keys()\n",
    "- Iteriere über values: dict.values()"
   ]
  },
  {
   "cell_type": "code",
   "execution_count": null,
   "metadata": {},
   "outputs": [],
   "source": [
    "for category, item_list in groceries.items():\n",
    "   print(item_list, \"are\", category)\n",
    "\n",
    "print(groceries.keys())\n",
    "print(groceries.values())"
   ]
  },
  {
   "cell_type": "markdown",
   "metadata": {},
   "source": [
    "### Aufgabe\n",
    "\n",
    "Vervollständige die for-Schleife, sodass das Element in der Liste im Dictionary auf seinen Index abgebildet wird (keys = items, values = indices)\n",
    "Die Funktion enumerate kann dir sagen, in welcher Iteration (Index) du dich gerade befindest. Dieser Wert wird in der Index-Variablen gespeichert, und das Listenelement wird in der Item-Variablen gespeichert.\n"
   ]
  },
  {
   "cell_type": "code",
   "execution_count": null,
   "metadata": {},
   "outputs": [],
   "source": [
    "grocery_list = [\"Onions\", \"Tomatoes\", \"Rice\", \"Soup\"]\n",
    "item_to_index = {}\n",
    "\n",
    "for index, item in enumerate(grocery_list):\n",
    "   \"\"\" complete the for-loop \"\"\"\n"
   ]
  },
  {
   "cell_type": "markdown",
   "metadata": {},
   "source": [
    "### Funktionen  (Methoden)\n"
   ]
  },
  {
   "cell_type": "code",
   "execution_count": null,
   "metadata": {},
   "outputs": [],
   "source": [
    "\"\"\" Hier definieren wir eine Funktion \"\"\"\n",
    "def add_one(value):\n",
    "   new_value = value + 1\n",
    "   return new_value\n",
    "\n",
    "\"\"\" Hier verwenden wir die Funktion \"\"\"\n",
    "print(add_one(10))\n",
    "print(add_one(2))\n"
   ]
  },
  {
   "cell_type": "markdown",
   "metadata": {},
   "source": [
    "### Funktionen: Return Values\n",
    "\n",
    "Return values sind Werte, die die Funktion zurückgibt\n",
    "\n",
    "Man kann den zurückgegebenen Wert einer neuen Variablen zuweisen oder sie als Parameter an andere Funktionen übergeben, wie wir es hier mit print tun"
   ]
  },
  {
   "cell_type": "code",
   "execution_count": null,
   "metadata": {},
   "outputs": [],
   "source": [
    "def add_one(value):\n",
    "   new_value = value + 1\n",
    "   return new_value\n",
    "\n",
    "print(add_one(10))\n",
    "value_returned = add_one(10)"
   ]
  },
  {
   "cell_type": "markdown",
   "metadata": {},
   "source": [
    "Rückgabewerte werden nicht immer benötigt"
   ]
  },
  {
   "cell_type": "code",
   "execution_count": null,
   "metadata": {},
   "outputs": [],
   "source": [
    "def my_print_function(message):\n",
    "   print(\"Message:\", message)\n",
    "\n",
    "my_print_function(\"Hello!\")"
   ]
  },
  {
   "cell_type": "markdown",
   "metadata": {},
   "source": [
    "### Aufgabe\n",
    "\n",
    "Schreibe eine Funktion make_list_index.\n",
    "Parameter: Der Funktion wird ein Parameter, eine Liste, übergeben.\n",
    "Funktionsbody: Die Funktion nimmt den Parameter (eine Liste) und erstellt ein Wörterbuch, das die Listenelemente auf ihre Indizes abbildet (siehe letzte Aufgabe)\n",
    "Return value: Die Funktion gibt das Dictionary zurück\n"
   ]
  },
  {
   "cell_type": "code",
   "execution_count": null,
   "metadata": {},
   "outputs": [],
   "source": [
    "def make_list_index():\n",
    "    \"\"\" TODO \"\"\"\n",
    "\n",
    "\n",
    "    return \n",
    "\n",
    "\n",
    "\"\"\" test here \"\"\"\n",
    "grocery_index = make_list_index([\"apples\", \"bananas\", \"oranges\"])\n",
    "print(grocery_index)\n",
    "\n",
    "materials_index = make_list_index([\"clay\", \"wood\", \"stone\"])\n",
    "print(materials_index)    "
   ]
  },
  {
   "cell_type": "markdown",
   "metadata": {},
   "source": [
    "### Klassen"
   ]
  },
  {
   "cell_type": "code",
   "execution_count": null,
   "metadata": {},
   "outputs": [],
   "source": [
    "class Player:\n",
    "    def __init__(self, name, birth_year, hair_color):\n",
    "        self.name               = name\n",
    "        self.birth_year     = birth_year\n",
    "        self.hair_color     = hair_color\n",
    "\n",
    "player_1 = Player('Anna', 2004, 'orange')\n",
    "player_2 = Player('Julia', 2005, 'lila')\n",
    "print(player_1.name)\n",
    "print(player_2.hair_color)"
   ]
  },
  {
   "cell_type": "markdown",
   "metadata": {},
   "source": [
    "### Klassen\n",
    "\n",
    "- Wir möchten von den Spielerinnen wissen, wie alt sie sind und welche Haarfarbe sie haben. \n",
    "\n",
    "- Objekte können auch Funktionen enthalten. Funktionen in Objekten sind Funktionen, die zum Objekt gehören.\n"
   ]
  },
  {
   "cell_type": "code",
   "execution_count": null,
   "metadata": {},
   "outputs": [],
   "source": [
    "class Player:\n",
    "    def __init__(self, name, birth_year, hair_color):\n",
    "        self.name         = name\n",
    "        self.birth_year     = birth_year\n",
    "        self.hair_color     = hair_color\n",
    "\n",
    "    def get_hair_color(self):\n",
    "        print('Meine Haarfarbe ist ' + self.hair_color)\n",
    "       \n",
    "    def get_age(self):\n",
    "        age = 2022 - self.birth_year\n",
    "        print('Ich bin ' + str(age) + ' Jahre alt.')\n",
    "\n",
    "player_1 = Player('Anna', 2004, 'orange')\n",
    "player_2 = Player('Julia', 2005, 'lila')\n",
    "player_1.get_age()\n",
    "player_1.get_hair_color()"
   ]
  },
  {
   "cell_type": "markdown",
   "metadata": {},
   "source": [
    "### Vererbung "
   ]
  },
  {
   "cell_type": "code",
   "execution_count": null,
   "metadata": {},
   "outputs": [],
   "source": [
    "class Chess_player():\n",
    "    def __init__(self, name, birth_year, hair_color, game_color):\n",
    "        self.name           = name\n",
    "        self.birth_year     = birth_year\n",
    "        self.hair_color     = hair_color\n",
    "        self.game_color     = game_color\n",
    "\n",
    "    def get_hair_color(self):\n",
    "        print('Meine Haarfarbe ist ' + self.hair_color)\n",
    "       \n",
    "    def get_age(self):\n",
    "        age = 2022 - self.birth_year\n",
    "        print('Ich bin ' + str(age) + ' Jahre alt.')\n",
    "\n",
    "    def get_game_color(self):\n",
    "        print(\"My game color is: \" + self.game_color)\n",
    "\n"
   ]
  },
  {
   "cell_type": "code",
   "execution_count": null,
   "metadata": {},
   "outputs": [],
   "source": [
    "class Chess_player(Player):\n",
    "   \n",
    "    def __init__(self,  name, birth_year, hair_color, game_color):\n",
    "        super().__init__(name, birth_year, hair_color)\n",
    "        self.game_color = game_color\n",
    "   \n",
    "    def get_game_color(self):\n",
    "        print(\"Meine Spielfarbe ist: \" + self.game_color)\n",
    "\n",
    "\n",
    "chess_player_1 = Chess_player(\"Kim\", 2003, \"rot\", \"weiss\")\n",
    "chess_player_1.get_age()\n",
    "chess_player_1.get_game_color()"
   ]
  }
 ],
 "metadata": {
  "interpreter": {
   "hash": "9ebdbf51241795527cc56038bb466bf7e27e8c0c85486b6ee9d20474c40f8685"
  },
  "kernelspec": {
   "display_name": "Python 3.10.4 ('itss')",
   "language": "python",
   "name": "python3"
  },
  "language_info": {
   "codemirror_mode": {
    "name": "ipython",
    "version": 3
   },
   "file_extension": ".py",
   "mimetype": "text/x-python",
   "name": "python",
   "nbconvert_exporter": "python",
   "pygments_lexer": "ipython3",
   "version": "3.10.4"
  },
  "orig_nbformat": 4
 },
 "nbformat": 4,
 "nbformat_minor": 2
}
