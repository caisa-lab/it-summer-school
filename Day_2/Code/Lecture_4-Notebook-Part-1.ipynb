{
 "cells": [
  {
   "cell_type": "markdown",
   "metadata": {},
   "source": [
    "## Python review"
   ]
  },
  {
   "cell_type": "markdown",
   "metadata": {},
   "source": [
    "What are the datatypes (types of variables) of var1, var2, and var3?"
   ]
  },
  {
   "cell_type": "code",
   "execution_count": null,
   "metadata": {},
   "outputs": [],
   "source": [
    "var1 = \"Game Over :(\" # string \n",
    "var2 = 200  # int\n",
    "var3 = 20.0  # float"
   ]
  },
  {
   "cell_type": "markdown",
   "metadata": {},
   "source": [
    "Finish the for-loop such that it print the value if it is an even number and less than 10, or if it is an odd number and greater than 10.\n",
    "\n",
    "Rules: \n",
    "1. Include at least one if and one elif\n",
    "2. Use the modulo operator\n",
    "3. Use compound operators\n"
   ]
  },
  {
   "cell_type": "code",
   "execution_count": null,
   "metadata": {},
   "outputs": [],
   "source": [
    "for i in range(1,21):\n",
    "   \"\"\" your code below \"\"\"\n"
   ]
  },
  {
   "cell_type": "markdown",
   "metadata": {},
   "source": [
    "**What’s wrong with this code?**\n",
    "\n",
    "```python\n",
    "my_print_function(message):\n",
    "   print(\"Message:\", message)\n",
    "\n",
    "my_print_function(\"Hello!\")\n",
    "```"
   ]
  },
  {
   "cell_type": "markdown",
   "metadata": {},
   "source": [
    "**What's wrong with this code?**\n",
    "\n",
    "```python\n",
    "score = 0\n",
    "lives = 3\n",
    "while lives != 0:\n",
    "   if banana_position == ground_position:\n",
    "       go_to_x(banana_position)\n",
    "   if banana_position == player_position:\n",
    "       go_to_x(banana_position)\n",
    "       score = score + 1\n",
    "```"
   ]
  },
  {
   "cell_type": "markdown",
   "metadata": {},
   "source": [
    "**True or False?**"
   ]
  },
  {
   "cell_type": "code",
   "execution_count": 1,
   "metadata": {},
   "outputs": [
    {
     "data": {
      "text/plain": [
       "False"
      ]
     },
     "execution_count": 1,
     "metadata": {},
     "output_type": "execute_result"
    }
   ],
   "source": [
    "materials = [\"clay\", \"wood\", \"stone\"]\n",
    "materials[1] == \"clay\""
   ]
  },
  {
   "cell_type": "code",
   "execution_count": 2,
   "metadata": {},
   "outputs": [
    {
     "data": {
      "text/plain": [
       "True"
      ]
     },
     "execution_count": 2,
     "metadata": {},
     "output_type": "execute_result"
    }
   ],
   "source": [
    "materials = [\"clay\", \"wood\", \"stone\"]\n",
    "materials[1][2] == materials[-1][2]"
   ]
  },
  {
   "cell_type": "markdown",
   "metadata": {},
   "source": [
    "True or False: The first and second code blocks do the same thing.\n",
    "\n",
    "```python\n",
    "\"\"\" Code block 1\"\"\"\n",
    "i = 1\n",
    "while i < 21:\n",
    "   if i < 10 and i % 2 == 0:\n",
    "       print(i)\n",
    "   elif i >= 10 and i % 2 == 1:\n",
    "       print(i)\n",
    "   i = i + 1\n",
    "```\n",
    "\n",
    "```python\n",
    "\"\"\"Code block 2\"\"\"\n",
    "for i in range(1,21):\n",
    "   if i < 10 and i % 2 == 0:\n",
    "       print(i)\n",
    "   elif i >= 10 and i % 2 == 1:\n",
    "       print(i)\n",
    "```\n"
   ]
  },
  {
   "cell_type": "markdown",
   "metadata": {},
   "source": [
    "True or False: The first and second code blocks do the same thing.\n",
    "\n",
    "```python\n",
    "\"\"\" Code block 1\"\"\"\n",
    "i = 1\n",
    "while True:\n",
    "   if i < 10 and i % 2 == 0:\n",
    "       print(i)\n",
    "   elif i >= 10 and i % 2 == 1:\n",
    "       print(i)\n",
    "\n",
    "   if i == 21:\n",
    "       break\n",
    "   i = i + 1\n",
    "```\n",
    "\n",
    "```python\n",
    "\"\"\"Code block 2\"\"\"\n",
    "for i in range(1,21):\n",
    "   if i < 10 and i % 2 == 0:\n",
    "       print(i)\n",
    "   elif i >= 10 and i % 2 == 1:\n",
    "       print(i)\n",
    "```\n"
   ]
  },
  {
   "cell_type": "markdown",
   "metadata": {},
   "source": [
    "**Dictionaries review**\n",
    "\n",
    "Complete the for-loop to make the dictionary map the item of the list to the item’s index in the list (keys are items and values are indices).\n",
    "\n",
    "\n",
    "The enumerate function can tell you the iteration (index) you are currently on. That value is stored in the index variable, and the list item is stored in the item variable.\n"
   ]
  },
  {
   "cell_type": "code",
   "execution_count": 3,
   "metadata": {},
   "outputs": [
    {
     "name": "stdout",
     "output_type": "stream",
     "text": [
      "0 3\n"
     ]
    }
   ],
   "source": [
    "\"\"\" Solution \"\"\"\n",
    "grocery_list = [\"Onions\", \"Tomatoes\", \"Rice\", \"Soup\"]\n",
    "item_to_index = {}\n",
    "\n",
    "for index, item in enumerate(grocery_list):\n",
    "   item_to_index[item] = index\n",
    "\n",
    "print(item_to_index['Onions'], item_to_index[\"Soup\"])\n"
   ]
  },
  {
   "cell_type": "markdown",
   "metadata": {},
   "source": [
    "## A Soft Introduction to Pygame\n",
    "…and game programming\n"
   ]
  },
  {
   "cell_type": "markdown",
   "metadata": {},
   "source": [
    "Open the file \"1-event-Beispiel.py\" in the lecture_4_code directory and run the code to see this in action.\n",
    "\n",
    "```python\n",
    "import pygame \n",
    "from pygame.locals import * \n",
    "import sys \n",
    "\n",
    "pygame.init() \n",
    "pygame.display.set_mode((640, 480)) \n",
    "\n",
    "\"\"\" Main game loop 'QUIT' event \"\"\"\n",
    "while True: # main game loop\n",
    "   for event in pygame.event.get(): \n",
    "       if event.type == QUIT: \n",
    "           pygame.quit() \n",
    "           sys.exit() \n",
    "```"
   ]
  },
  {
   "cell_type": "markdown",
   "metadata": {},
   "source": [
    "### Was du über Rectangles wissen musst "
   ]
  },
  {
   "cell_type": "markdown",
   "metadata": {},
   "source": [
    "- Das Sprite ist von einem imaginären Rechteck umgeben.\n",
    "- Das imaginäre Rechteck wird durch ein pygame.Rect Objekt dargestellt"
   ]
  },
  {
   "cell_type": "markdown",
   "metadata": {},
   "source": [
    "Wir nennen das imaginäre Rechteck des Sprites 'rect'.\n",
    "Wie du dir vorstellen kannst, hat rect eine Breite und eine Höhe. Diese können können wir leicht ermitteln."
   ]
  },
  {
   "cell_type": "code",
   "execution_count": 5,
   "metadata": {},
   "outputs": [
    {
     "name": "stdout",
     "output_type": "stream",
     "text": [
      "32 32\n"
     ]
    }
   ],
   "source": [
    "import pygame\n",
    "\n",
    "# The rect's upper left corner is at (0,0)\n",
    "# Its height and width are both 32 pixels\n",
    "rect = pygame.Rect(0, 0, 32, 32)\n",
    "print(rect.width, rect.height)"
   ]
  },
  {
   "cell_type": "markdown",
   "metadata": {},
   "source": [
    "Der Zweck des imaginären Rechtecks des Sprites ist, dass wir die Koordinaten oder die Position des Sprites auf dem Bildschirm erfassen können."
   ]
  },
  {
   "cell_type": "code",
   "execution_count": 7,
   "metadata": {},
   "outputs": [
    {
     "name": "stdout",
     "output_type": "stream",
     "text": [
      "32\n",
      "0\n",
      "0\n",
      "32\n"
     ]
    }
   ],
   "source": [
    "print(rect.right) # x value of right side\n",
    "print(rect.left) # x value of left side\n",
    "print(rect.top) # y value of top side\n",
    "print(rect.bottom) # y value of bottom side"
   ]
  },
  {
   "cell_type": "code",
   "execution_count": 8,
   "metadata": {},
   "outputs": [
    {
     "name": "stdout",
     "output_type": "stream",
     "text": [
      "(0, 0)\n",
      "(32, 0)\n",
      "(32, 32)\n",
      "(0, 32)\n"
     ]
    }
   ],
   "source": [
    "\"\"\" coordinates of the corners \"\"\"\n",
    "print(rect.topleft) \n",
    "print(rect.topright) \n",
    "print(rect.bottomright) \n",
    "print(rect.bottomleft) "
   ]
  },
  {
   "cell_type": "markdown",
   "metadata": {},
   "source": [
    "Verschiedene Positions-Attribute\n",
    "\n",
    "```python\n",
    "x,y\n",
    "top, left, bottom, right\n",
    "topleft, bottomleft, topright, bottomright\n",
    "midtop, midleft, midbottom, midright\n",
    "center, centerx, centery\n",
    "size, width, height\n",
    "w,h\n",
    "```"
   ]
  },
  {
   "cell_type": "markdown",
   "metadata": {},
   "source": [
    "Das Sprite bewegt sich, wenn man einen Positions-Wert ändert\n"
   ]
  },
  {
   "cell_type": "code",
   "execution_count": 9,
   "metadata": {},
   "outputs": [
    {
     "name": "stdout",
     "output_type": "stream",
     "text": [
      "Initial midbottom coordinate: (16, 32)\n",
      "66\n",
      "34\n",
      "68\n",
      "100\n",
      "New midbottom coordinate: (50, 100)\n"
     ]
    }
   ],
   "source": [
    "print(\"Initial midbottom coordinate:\", rect.midbottom)\n",
    "rect.midbottom = (50, 100)\n",
    "print(rect.right) # x=66\n",
    "print(rect.left) # x=34\n",
    "print(rect.top) # y=68\n",
    "print(rect.bottom) # y=100\n",
    "print(\"New midbottom coordinate:\", rect.midbottom)"
   ]
  },
  {
   "cell_type": "markdown",
   "metadata": {},
   "source": [
    "### Bewege den Sprite "
   ]
  },
  {
   "cell_type": "code",
   "execution_count": 10,
   "metadata": {},
   "outputs": [
    {
     "name": "stdout",
     "output_type": "stream",
     "text": [
      "rect.topleft before (0, 0)\n",
      "rect.topleft after (34, 34)\n"
     ]
    }
   ],
   "source": [
    "rect.topleft = (0, 0) # first position\n",
    "print(\"rect.topleft before\", rect.topleft)\n",
    "\n",
    "rect.center = (50, 50) # second position\n",
    "print(\"rect.topleft after\", rect.topleft)\n"
   ]
  },
  {
   "cell_type": "code",
   "execution_count": 11,
   "metadata": {},
   "outputs": [
    {
     "name": "stdout",
     "output_type": "stream",
     "text": [
      "rect.topleft before (34, 34)\n",
      "rect.topleft after (2, 66)\n"
     ]
    }
   ],
   "source": [
    "rect.center = (50, 50)\n",
    "print(\"rect.topleft before\", rect.topleft)\n",
    "\n",
    "rect.topright = rect.bottomleft\n",
    "print(\"rect.topleft after\", rect.topleft)"
   ]
  },
  {
   "cell_type": "code",
   "execution_count": 14,
   "metadata": {},
   "outputs": [
    {
     "name": "stdout",
     "output_type": "stream",
     "text": [
      "rect.topright before: (66, 34)\n",
      "rect.bottomleft before: (34, 66)\n",
      "rect.topright after (34, 66)\n",
      "rect.bottomleft after (2, 98)\n"
     ]
    }
   ],
   "source": [
    "rect.center = (50, 50)\n",
    "print(\"rect.topright before:\", rect.topright)\n",
    "print(\"rect.bottomleft before:\", rect.bottomleft)\n",
    "rect.topright = rect.bottomleft\n",
    "print(\"rect.topright after\", rect.topright)\n",
    "print(\"rect.bottomleft after\", rect.bottomleft)"
   ]
  },
  {
   "cell_type": "code",
   "execution_count": 6,
   "metadata": {},
   "outputs": [
    {
     "data": {
      "text/plain": [
       "16"
      ]
     },
     "execution_count": 6,
     "metadata": {},
     "output_type": "execute_result"
    }
   ],
   "source": [
    "rect.centerx"
   ]
  },
  {
   "cell_type": "code",
   "execution_count": 15,
   "metadata": {},
   "outputs": [
    {
     "data": {
      "text/plain": [
       "' your own print statements '"
      ]
     },
     "execution_count": 15,
     "metadata": {},
     "output_type": "execute_result"
    }
   ],
   "source": [
    "rect.center = (50, 50)\n",
    "rect.topright = rect.bottomleft\n",
    "rect.topleft = rect.bottomright\n",
    "\n",
    "\"\"\" your own print statements \"\"\""
   ]
  },
  {
   "cell_type": "markdown",
   "metadata": {},
   "source": [
    "## Jetzt: Coding Challenge\n",
    "\n",
    "- See the directory `L4_coding_challenge`\n",
    "- Instructions are in the `README.md` file, which you can also view online: https://github.com/caisa-lab/it-summer-school/tree/main/Day_2/L4_coding_challenge"
   ]
  }
 ],
 "metadata": {
  "interpreter": {
   "hash": "9ebdbf51241795527cc56038bb466bf7e27e8c0c85486b6ee9d20474c40f8685"
  },
  "kernelspec": {
   "display_name": "Python 3.10.4 ('itss')",
   "language": "python",
   "name": "python3"
  },
  "language_info": {
   "codemirror_mode": {
    "name": "ipython",
    "version": 3
   },
   "file_extension": ".py",
   "mimetype": "text/x-python",
   "name": "python",
   "nbconvert_exporter": "python",
   "pygments_lexer": "ipython3",
   "version": "3.10.4"
  },
  "orig_nbformat": 4
 },
 "nbformat": 4,
 "nbformat_minor": 2
}
